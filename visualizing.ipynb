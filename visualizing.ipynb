{
 "cells": [
  {
   "cell_type": "code",
   "execution_count": null,
   "metadata": {},
   "outputs": [],
   "source": [
    "import matplotlib.pyplot as plt"
   ]
  },
  {
   "cell_type": "markdown",
   "metadata": {},
   "source": [
    "## log-log serial run"
   ]
  },
  {
   "cell_type": "code",
   "execution_count": null,
   "metadata": {},
   "outputs": [],
   "source": [
    "serial_particles = [10000 * 2 ** i for i in range(6)]\n",
    "serial_times = []\n",
    "fig, ax = plt.subplots()\n",
    "ax.plot(serial_particles, serial_times, label='Serial', marker='o')\n",
    "ax.set_xscale('log')\n",
    "ax.set_yscale('log')\n",
    "ax.set_xlabel('log(Number of Particles)')\n",
    "ax.set_ylabel('log(Time (s))')\n",
    "ax.set_title('Serial Rumtime Plot')\n",
    "plt.show()"
   ]
  },
  {
   "cell_type": "code",
   "execution_count": null,
   "metadata": {},
   "outputs": [],
   "source": [
    "parallel_particles = [e * 10 for e in serial_particles]\n",
    "# parallel_time = [1.08797, 2.05535, 4.81468, 14.8197, 27.4764, 63.893]\n",
    "parallel_time = [0.178497, 0.38168, 0.891494, 3.12037, 6.66539, 15.235]\n",
    "fig, ax = plt.subplots()\n",
    "ax.plot(parallel_particles, parallel_time, label='Parallel', marker='o')\n",
    "ax.set_xscale('log')\n",
    "ax.set_yscale('log')\n",
    "ax.set_xlabel('log(Number of Particles)')\n",
    "ax.set_ylabel('log(Time (s))')\n",
    "ax.set_title('Parallel Compute Time Plot')\n",
    "plt.show()"
   ]
  },
  {
   "cell_type": "code",
   "execution_count": null,
   "metadata": {},
   "outputs": [],
   "source": [
    "threads_num = [1, 2, 4, 8, 16, 24, 48, 96]\n",
    "serial_runtime = 213.39\n",
    "parallel_times_strong_scaling = [0.0692274 + 0.0474738, 0.072859 + 0.0639422, 0.0973282 + 0.154499, 0.192379 + 0.215779, 0.349723 + 1.34143, 0.56713 + 0.945261]\n",
    "speedup = [serial_runtime / t for t in parallel_times_strong_scaling]\n",
    "fig, ax = plt.subplots()\n",
    "ax.plot(threads_num, speedup, label='Speedup', marker='o')\n",
    "# ax.plot(threads_num, speedup, label='Linear Speedup', marker='o')\n",
    "ax.set_xlabel('Number of Processes')\n",
    "ax.set_ylabel('Speedup')\n",
    "ax.set_title('Strong Scaling Speedup Plot')\n",
    "plt.show()"
   ]
  },
  {
   "cell_type": "code",
   "execution_count": null,
   "metadata": {},
   "outputs": [],
   "source": [
    "serial_runtime_weak_scaling = 2.02063\n",
    "threads_num_weaking_scaling = threads_num\n",
    "parallel_times_weak_scaling = [2.02063, 2.08829, 2.15401, 2.52167, 3.91255, 3.79466, 4.23538, 4.66415]\n",
    "scaled_speedup = [serial_runtime_weak_scaling / t * thread_num for thread_num, t in zip(threads_num, parallel_times_weak_scaling)]\n",
    "fig, ax = plt.subplots()\n",
    "ax.plot(threads_num, scaled_speedup, label='Weak Scaling Speedup', marker='o')\n",
    "ax.set_xlabel('Number of Processes')\n",
    "ax.set_ylabel('Speedup')\n",
    "ax.set_title('Weak Scaling Speedup Plot')\n",
    "plt.show()"
   ]
  }
 ],
 "metadata": {
  "kernelspec": {
   "display_name": "moe",
   "language": "python",
   "name": "python3"
  },
  "language_info": {
   "codemirror_mode": {
    "name": "ipython",
    "version": 3
   },
   "file_extension": ".py",
   "mimetype": "text/x-python",
   "name": "python",
   "nbconvert_exporter": "python",
   "pygments_lexer": "ipython3",
   "version": "3.9.13"
  }
 },
 "nbformat": 4,
 "nbformat_minor": 2
}
